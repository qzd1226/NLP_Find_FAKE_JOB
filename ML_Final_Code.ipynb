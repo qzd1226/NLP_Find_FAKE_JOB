{
 "cells": [
  {
   "cell_type": "markdown",
   "id": "micro-honor",
   "metadata": {},
   "source": [
    "# ML Final Project"
   ]
  },
  {
   "cell_type": "markdown",
   "id": "august-syndication",
   "metadata": {},
   "source": [
    "Zongdi Qiu (zq9ms)"
   ]
  },
  {
   "cell_type": "markdown",
   "id": "stopped-kinase",
   "metadata": {},
   "source": [
    "Qinglin Li(xep4ez)"
   ]
  },
  {
   "cell_type": "markdown",
   "id": "cellular-boring",
   "metadata": {},
   "source": [
    "Zekui Fu(pry7cp)"
   ]
  },
  {
   "cell_type": "markdown",
   "id": "radical-stadium",
   "metadata": {},
   "source": [
    "Jinshuo Xiao(zmy4fg) "
   ]
  },
  {
   "cell_type": "markdown",
   "id": "numerical-creativity",
   "metadata": {},
   "source": [
    "# Import Packages"
   ]
  },
  {
   "cell_type": "code",
   "execution_count": 370,
   "id": "french-google",
   "metadata": {},
   "outputs": [],
   "source": [
    "import numpy as np # linear algebra\n",
    "import pandas as pd # data processing, CSV file I/O (e.g. pd.read_csv)\n",
    "import os\n",
    "import keras\n",
    "import matplotlib.pyplot as plt\n",
    "import nltk\n",
    "from tensorflow.keras.layers import Embedding\n",
    "from tensorflow.keras.preprocessing.sequence import pad_sequences\n",
    "from tensorflow.keras.models import Sequential\n",
    "from tensorflow.keras.preprocessing.text import one_hot\n",
    "from tensorflow.keras.layers import LSTM\n",
    "from tensorflow.keras.layers import Dense\n",
    "from tensorflow.keras.layers import Bidirectional\n",
    "from tensorflow.keras.layers import Dropout\n",
    "from nltk.stem.porter import PorterStemmer\n",
    "from sklearn.model_selection import train_test_split\n",
    "from sklearn.model_selection import GridSearchCV\n",
    "from keras.wrappers.scikit_learn import KerasClassifier\n",
    "from keras.constraints import maxnorm\n",
    "from sklearn.metrics import plot_confusion_matrix\n",
    "from sklearn.metrics import ConfusionMatrixDisplay\n",
    "import missingno\n",
    "import seaborn as sns"
   ]
  },
  {
   "cell_type": "markdown",
   "id": "extra-stock",
   "metadata": {},
   "source": [
    "# Read Data"
   ]
  },
  {
   "cell_type": "code",
   "execution_count": 380,
   "id": "lyric-substitute",
   "metadata": {},
   "outputs": [],
   "source": [
    "train_data = pd.read_csv('fake_job_postings.csv')"
   ]
  },
  {
   "cell_type": "code",
   "execution_count": 381,
   "id": "respiratory-trinidad",
   "metadata": {},
   "outputs": [
    {
     "data": {
      "text/html": [
       "<div>\n",
       "<style scoped>\n",
       "    .dataframe tbody tr th:only-of-type {\n",
       "        vertical-align: middle;\n",
       "    }\n",
       "\n",
       "    .dataframe tbody tr th {\n",
       "        vertical-align: top;\n",
       "    }\n",
       "\n",
       "    .dataframe thead th {\n",
       "        text-align: right;\n",
       "    }\n",
       "</style>\n",
       "<table border=\"1\" class=\"dataframe\">\n",
       "  <thead>\n",
       "    <tr style=\"text-align: right;\">\n",
       "      <th></th>\n",
       "      <th>job_id</th>\n",
       "      <th>title</th>\n",
       "      <th>location</th>\n",
       "      <th>department</th>\n",
       "      <th>salary_range</th>\n",
       "      <th>company_profile</th>\n",
       "      <th>description</th>\n",
       "      <th>requirements</th>\n",
       "      <th>benefits</th>\n",
       "      <th>telecommuting</th>\n",
       "      <th>has_company_logo</th>\n",
       "      <th>has_questions</th>\n",
       "      <th>employment_type</th>\n",
       "      <th>required_experience</th>\n",
       "      <th>required_education</th>\n",
       "      <th>industry</th>\n",
       "      <th>function</th>\n",
       "      <th>fraudulent</th>\n",
       "    </tr>\n",
       "  </thead>\n",
       "  <tbody>\n",
       "    <tr>\n",
       "      <th>0</th>\n",
       "      <td>1</td>\n",
       "      <td>Marketing Intern</td>\n",
       "      <td>US, NY, New York</td>\n",
       "      <td>Marketing</td>\n",
       "      <td>NaN</td>\n",
       "      <td>We're Food52, and we've created a groundbreaki...</td>\n",
       "      <td>Food52, a fast-growing, James Beard Award-winn...</td>\n",
       "      <td>Experience with content management systems a m...</td>\n",
       "      <td>NaN</td>\n",
       "      <td>0</td>\n",
       "      <td>1</td>\n",
       "      <td>0</td>\n",
       "      <td>Other</td>\n",
       "      <td>Internship</td>\n",
       "      <td>NaN</td>\n",
       "      <td>NaN</td>\n",
       "      <td>Marketing</td>\n",
       "      <td>0</td>\n",
       "    </tr>\n",
       "    <tr>\n",
       "      <th>1</th>\n",
       "      <td>2</td>\n",
       "      <td>Customer Service - Cloud Video Production</td>\n",
       "      <td>NZ, , Auckland</td>\n",
       "      <td>Success</td>\n",
       "      <td>NaN</td>\n",
       "      <td>90 Seconds, the worlds Cloud Video Production ...</td>\n",
       "      <td>Organised - Focused - Vibrant - Awesome!Do you...</td>\n",
       "      <td>What we expect from you:Your key responsibilit...</td>\n",
       "      <td>What you will get from usThrough being part of...</td>\n",
       "      <td>0</td>\n",
       "      <td>1</td>\n",
       "      <td>0</td>\n",
       "      <td>Full-time</td>\n",
       "      <td>Not Applicable</td>\n",
       "      <td>NaN</td>\n",
       "      <td>Marketing and Advertising</td>\n",
       "      <td>Customer Service</td>\n",
       "      <td>0</td>\n",
       "    </tr>\n",
       "    <tr>\n",
       "      <th>2</th>\n",
       "      <td>3</td>\n",
       "      <td>Commissioning Machinery Assistant (CMA)</td>\n",
       "      <td>US, IA, Wever</td>\n",
       "      <td>NaN</td>\n",
       "      <td>NaN</td>\n",
       "      <td>Valor Services provides Workforce Solutions th...</td>\n",
       "      <td>Our client, located in Houston, is actively se...</td>\n",
       "      <td>Implement pre-commissioning and commissioning ...</td>\n",
       "      <td>NaN</td>\n",
       "      <td>0</td>\n",
       "      <td>1</td>\n",
       "      <td>0</td>\n",
       "      <td>NaN</td>\n",
       "      <td>NaN</td>\n",
       "      <td>NaN</td>\n",
       "      <td>NaN</td>\n",
       "      <td>NaN</td>\n",
       "      <td>0</td>\n",
       "    </tr>\n",
       "    <tr>\n",
       "      <th>3</th>\n",
       "      <td>4</td>\n",
       "      <td>Account Executive - Washington DC</td>\n",
       "      <td>US, DC, Washington</td>\n",
       "      <td>Sales</td>\n",
       "      <td>NaN</td>\n",
       "      <td>Our passion for improving quality of life thro...</td>\n",
       "      <td>THE COMPANY: ESRI – Environmental Systems Rese...</td>\n",
       "      <td>EDUCATION: Bachelor’s or Master’s in GIS, busi...</td>\n",
       "      <td>Our culture is anything but corporate—we have ...</td>\n",
       "      <td>0</td>\n",
       "      <td>1</td>\n",
       "      <td>0</td>\n",
       "      <td>Full-time</td>\n",
       "      <td>Mid-Senior level</td>\n",
       "      <td>Bachelor's Degree</td>\n",
       "      <td>Computer Software</td>\n",
       "      <td>Sales</td>\n",
       "      <td>0</td>\n",
       "    </tr>\n",
       "    <tr>\n",
       "      <th>4</th>\n",
       "      <td>5</td>\n",
       "      <td>Bill Review Manager</td>\n",
       "      <td>US, FL, Fort Worth</td>\n",
       "      <td>NaN</td>\n",
       "      <td>NaN</td>\n",
       "      <td>SpotSource Solutions LLC is a Global Human Cap...</td>\n",
       "      <td>JOB TITLE: Itemization Review ManagerLOCATION:...</td>\n",
       "      <td>QUALIFICATIONS:RN license in the State of Texa...</td>\n",
       "      <td>Full Benefits Offered</td>\n",
       "      <td>0</td>\n",
       "      <td>1</td>\n",
       "      <td>1</td>\n",
       "      <td>Full-time</td>\n",
       "      <td>Mid-Senior level</td>\n",
       "      <td>Bachelor's Degree</td>\n",
       "      <td>Hospital &amp; Health Care</td>\n",
       "      <td>Health Care Provider</td>\n",
       "      <td>0</td>\n",
       "    </tr>\n",
       "  </tbody>\n",
       "</table>\n",
       "</div>"
      ],
      "text/plain": [
       "   job_id                                      title            location  \\\n",
       "0       1                           Marketing Intern    US, NY, New York   \n",
       "1       2  Customer Service - Cloud Video Production      NZ, , Auckland   \n",
       "2       3    Commissioning Machinery Assistant (CMA)       US, IA, Wever   \n",
       "3       4          Account Executive - Washington DC  US, DC, Washington   \n",
       "4       5                        Bill Review Manager  US, FL, Fort Worth   \n",
       "\n",
       "  department salary_range                                    company_profile  \\\n",
       "0  Marketing          NaN  We're Food52, and we've created a groundbreaki...   \n",
       "1    Success          NaN  90 Seconds, the worlds Cloud Video Production ...   \n",
       "2        NaN          NaN  Valor Services provides Workforce Solutions th...   \n",
       "3      Sales          NaN  Our passion for improving quality of life thro...   \n",
       "4        NaN          NaN  SpotSource Solutions LLC is a Global Human Cap...   \n",
       "\n",
       "                                         description  \\\n",
       "0  Food52, a fast-growing, James Beard Award-winn...   \n",
       "1  Organised - Focused - Vibrant - Awesome!Do you...   \n",
       "2  Our client, located in Houston, is actively se...   \n",
       "3  THE COMPANY: ESRI – Environmental Systems Rese...   \n",
       "4  JOB TITLE: Itemization Review ManagerLOCATION:...   \n",
       "\n",
       "                                        requirements  \\\n",
       "0  Experience with content management systems a m...   \n",
       "1  What we expect from you:Your key responsibilit...   \n",
       "2  Implement pre-commissioning and commissioning ...   \n",
       "3  EDUCATION: Bachelor’s or Master’s in GIS, busi...   \n",
       "4  QUALIFICATIONS:RN license in the State of Texa...   \n",
       "\n",
       "                                            benefits  telecommuting  \\\n",
       "0                                                NaN              0   \n",
       "1  What you will get from usThrough being part of...              0   \n",
       "2                                                NaN              0   \n",
       "3  Our culture is anything but corporate—we have ...              0   \n",
       "4                              Full Benefits Offered              0   \n",
       "\n",
       "   has_company_logo  has_questions employment_type required_experience  \\\n",
       "0                 1              0           Other          Internship   \n",
       "1                 1              0       Full-time      Not Applicable   \n",
       "2                 1              0             NaN                 NaN   \n",
       "3                 1              0       Full-time    Mid-Senior level   \n",
       "4                 1              1       Full-time    Mid-Senior level   \n",
       "\n",
       "  required_education                   industry              function  \\\n",
       "0                NaN                        NaN             Marketing   \n",
       "1                NaN  Marketing and Advertising      Customer Service   \n",
       "2                NaN                        NaN                   NaN   \n",
       "3  Bachelor's Degree          Computer Software                 Sales   \n",
       "4  Bachelor's Degree     Hospital & Health Care  Health Care Provider   \n",
       "\n",
       "   fraudulent  \n",
       "0           0  \n",
       "1           0  \n",
       "2           0  \n",
       "3           0  \n",
       "4           0  "
      ]
     },
     "execution_count": 381,
     "metadata": {},
     "output_type": "execute_result"
    }
   ],
   "source": [
    "train_data.head()"
   ]
  },
  {
   "cell_type": "code",
   "execution_count": 382,
   "id": "turned-kitty",
   "metadata": {},
   "outputs": [
    {
     "data": {
      "text/plain": [
       "(17880, 18)"
      ]
     },
     "execution_count": 382,
     "metadata": {},
     "output_type": "execute_result"
    }
   ],
   "source": [
    "train_data.shape"
   ]
  },
  {
   "cell_type": "code",
   "execution_count": 396,
   "id": "varying-cream",
   "metadata": {},
   "outputs": [
    {
     "data": {
      "text/html": [
       "<div>\n",
       "<style scoped>\n",
       "    .dataframe tbody tr th:only-of-type {\n",
       "        vertical-align: middle;\n",
       "    }\n",
       "\n",
       "    .dataframe tbody tr th {\n",
       "        vertical-align: top;\n",
       "    }\n",
       "\n",
       "    .dataframe thead th {\n",
       "        text-align: right;\n",
       "    }\n",
       "</style>\n",
       "<table border=\"1\" class=\"dataframe\">\n",
       "  <thead>\n",
       "    <tr style=\"text-align: right;\">\n",
       "      <th></th>\n",
       "      <th>title</th>\n",
       "      <th>description</th>\n",
       "      <th>requirements</th>\n",
       "      <th>company_profile</th>\n",
       "      <th>employment_type</th>\n",
       "      <th>required_experience</th>\n",
       "      <th>fraudulent</th>\n",
       "    </tr>\n",
       "  </thead>\n",
       "  <tbody>\n",
       "    <tr>\n",
       "      <th>0</th>\n",
       "      <td>Marketing Intern</td>\n",
       "      <td>Food52, a fast-growing, James Beard Award-winn...</td>\n",
       "      <td>Experience with content management systems a m...</td>\n",
       "      <td>We're Food52, and we've created a groundbreaki...</td>\n",
       "      <td>Other</td>\n",
       "      <td>Internship</td>\n",
       "      <td>0</td>\n",
       "    </tr>\n",
       "    <tr>\n",
       "      <th>1</th>\n",
       "      <td>Customer Service - Cloud Video Production</td>\n",
       "      <td>Organised - Focused - Vibrant - Awesome!Do you...</td>\n",
       "      <td>What we expect from you:Your key responsibilit...</td>\n",
       "      <td>90 Seconds, the worlds Cloud Video Production ...</td>\n",
       "      <td>Full-time</td>\n",
       "      <td>Not Applicable</td>\n",
       "      <td>0</td>\n",
       "    </tr>\n",
       "    <tr>\n",
       "      <th>2</th>\n",
       "      <td>Commissioning Machinery Assistant (CMA)</td>\n",
       "      <td>Our client, located in Houston, is actively se...</td>\n",
       "      <td>Implement pre-commissioning and commissioning ...</td>\n",
       "      <td>Valor Services provides Workforce Solutions th...</td>\n",
       "      <td>NaN</td>\n",
       "      <td>NaN</td>\n",
       "      <td>0</td>\n",
       "    </tr>\n",
       "    <tr>\n",
       "      <th>3</th>\n",
       "      <td>Account Executive - Washington DC</td>\n",
       "      <td>THE COMPANY: ESRI – Environmental Systems Rese...</td>\n",
       "      <td>EDUCATION: Bachelor’s or Master’s in GIS, busi...</td>\n",
       "      <td>Our passion for improving quality of life thro...</td>\n",
       "      <td>Full-time</td>\n",
       "      <td>Mid-Senior level</td>\n",
       "      <td>0</td>\n",
       "    </tr>\n",
       "    <tr>\n",
       "      <th>4</th>\n",
       "      <td>Bill Review Manager</td>\n",
       "      <td>JOB TITLE: Itemization Review ManagerLOCATION:...</td>\n",
       "      <td>QUALIFICATIONS:RN license in the State of Texa...</td>\n",
       "      <td>SpotSource Solutions LLC is a Global Human Cap...</td>\n",
       "      <td>Full-time</td>\n",
       "      <td>Mid-Senior level</td>\n",
       "      <td>0</td>\n",
       "    </tr>\n",
       "  </tbody>\n",
       "</table>\n",
       "</div>"
      ],
      "text/plain": [
       "                                       title  \\\n",
       "0                           Marketing Intern   \n",
       "1  Customer Service - Cloud Video Production   \n",
       "2    Commissioning Machinery Assistant (CMA)   \n",
       "3          Account Executive - Washington DC   \n",
       "4                        Bill Review Manager   \n",
       "\n",
       "                                         description  \\\n",
       "0  Food52, a fast-growing, James Beard Award-winn...   \n",
       "1  Organised - Focused - Vibrant - Awesome!Do you...   \n",
       "2  Our client, located in Houston, is actively se...   \n",
       "3  THE COMPANY: ESRI – Environmental Systems Rese...   \n",
       "4  JOB TITLE: Itemization Review ManagerLOCATION:...   \n",
       "\n",
       "                                        requirements  \\\n",
       "0  Experience with content management systems a m...   \n",
       "1  What we expect from you:Your key responsibilit...   \n",
       "2  Implement pre-commissioning and commissioning ...   \n",
       "3  EDUCATION: Bachelor’s or Master’s in GIS, busi...   \n",
       "4  QUALIFICATIONS:RN license in the State of Texa...   \n",
       "\n",
       "                                     company_profile employment_type  \\\n",
       "0  We're Food52, and we've created a groundbreaki...           Other   \n",
       "1  90 Seconds, the worlds Cloud Video Production ...       Full-time   \n",
       "2  Valor Services provides Workforce Solutions th...             NaN   \n",
       "3  Our passion for improving quality of life thro...       Full-time   \n",
       "4  SpotSource Solutions LLC is a Global Human Cap...       Full-time   \n",
       "\n",
       "  required_experience  fraudulent  \n",
       "0          Internship           0  \n",
       "1      Not Applicable           0  \n",
       "2                 NaN           0  \n",
       "3    Mid-Senior level           0  \n",
       "4    Mid-Senior level           0  "
      ]
     },
     "execution_count": 396,
     "metadata": {},
     "output_type": "execute_result"
    }
   ],
   "source": [
    "df=train_data[['title','description','requirements','company_profile','employment_type','required_experience','fraudulent']]\n",
    "df.head()"
   ]
  },
  {
   "cell_type": "markdown",
   "id": "ecological-hughes",
   "metadata": {},
   "source": [
    "# EDA"
   ]
  },
  {
   "cell_type": "code",
   "execution_count": 384,
   "id": "photographic-soldier",
   "metadata": {},
   "outputs": [
    {
     "name": "stdout",
     "output_type": "stream",
     "text": [
      "0    17014\n",
      "1      866\n",
      "Name: fraudulent, dtype: int64\n"
     ]
    }
   ],
   "source": [
    "print(df.fraudulent.value_counts())"
   ]
  },
  {
   "cell_type": "code",
   "execution_count": 385,
   "id": "bulgarian-brazil",
   "metadata": {},
   "outputs": [
    {
     "data": {
      "text/plain": [
       "<AxesSubplot:>"
      ]
     },
     "execution_count": 385,
     "metadata": {},
     "output_type": "execute_result"
    },
    {
     "data": {
      "image/png": "[encoded data removed]",
      "text/plain": [
       "<Figure size 1800x720 with 2 Axes>"
      ]
     },
     "metadata": {
      "needs_background": "light"
     },
     "output_type": "display_data"
    }
   ],
   "source": [
    "missingno.matrix(train_data)"
   ]
  },
  {
   "cell_type": "code",
   "execution_count": 387,
   "id": "bored-vegetation",
   "metadata": {},
   "outputs": [
    {
     "name": "stderr",
     "output_type": "stream",
     "text": [
      "/Library/Frameworks/Python.framework/Versions/3.8/lib/python3.8/site-packages/seaborn/_decorators.py:36: FutureWarning: Pass the following variable as a keyword arg: x. From version 0.12, the only valid positional argument will be `data`, and passing other arguments without an explicit keyword will result in an error or misinterpretation.\n",
      "  warnings.warn(\n"
     ]
    },
    {
     "data": {
      "text/plain": [
       "<AxesSubplot:xlabel='fraudulent', ylabel='count'>"
      ]
     },
     "execution_count": 387,
     "metadata": {},
     "output_type": "execute_result"
    },
    {
     "data": {
      "image/png": "[encoded data removed]",
      "text/plain": [
       "<Figure size 432x288 with 1 Axes>"
      ]
     },
     "metadata": {
      "needs_background": "light"
     },
     "output_type": "display_data"
    }
   ],
   "source": [
    "frad_dict=dict(train_data.fraudulent.value_counts())\n",
    "sns.countplot(train_data.fraudulent,palette='Dark2_r')"
   ]
  },
  {
   "cell_type": "code",
   "execution_count": 388,
   "id": "satisfied-guarantee",
   "metadata": {},
   "outputs": [
    {
     "name": "stdout",
     "output_type": "stream",
     "text": [
      "English Teacher Abroad                                311\n",
      "Customer Service Associate                            146\n",
      "Graduates: English Teacher Abroad (Conversational)    144\n",
      "English Teacher Abroad                                 95\n",
      "Software Engineer                                      86\n",
      "English Teacher Abroad (Conversational)                83\n",
      "Customer Service Associate - Part Time                 76\n",
      "Account Manager                                        75\n",
      "Web Developer                                          66\n",
      "Project Manager                                        62\n",
      "Name: title, dtype: int64\n"
     ]
    }
   ],
   "source": [
    "#frequency of each jobs.\n",
    "print(train_data.title.value_counts()[:10])"
   ]
  },
  {
   "cell_type": "code",
   "execution_count": 389,
   "id": "honest-skill",
   "metadata": {},
   "outputs": [
    {
     "data": {
      "text/plain": [
       "Text(0.5, 1.0, 'employment type vs fake')"
      ]
     },
     "execution_count": 389,
     "metadata": {},
     "output_type": "execute_result"
    },
    {
     "data": {
      "image/png": "[encoded data removed]",
      "text/plain": [
       "<Figure size 1440x576 with 1 Axes>"
      ]
     },
     "metadata": {
      "needs_background": "light"
     },
     "output_type": "display_data"
    }
   ],
   "source": [
    "plt.figure(1,figsize=(20,8))\n",
    "sns.countplot(hue=train_data.fraudulent,x=train_data.employment_type,palette='Dark2_r')\n",
    "plt.legend(loc='upper right')\n",
    "plt.title('employment type vs fake')"
   ]
  },
  {
   "cell_type": "code",
   "execution_count": 390,
   "id": "assumed-rolling",
   "metadata": {},
   "outputs": [
    {
     "data": {
      "text/plain": [
       "Text(0.5, 1.0, 'employment type vs fake')"
      ]
     },
     "execution_count": 390,
     "metadata": {},
     "output_type": "execute_result"
    },
    {
     "data": {
      "image/png": "[encoded data removed]",
      "text/plain": [
       "<Figure size 1440x576 with 1 Axes>"
      ]
     },
     "metadata": {
      "needs_background": "light"
     },
     "output_type": "display_data"
    }
   ],
   "source": [
    "plt.figure(1,figsize=(20,8))\n",
    "sns.countplot(hue=train_data.fraudulent,x=train_data.required_experience,palette='Dark2_r')\n",
    "plt.legend(loc='upper right')\n",
    "plt.title('employment type vs fake')"
   ]
  },
  {
   "cell_type": "code",
   "execution_count": 391,
   "id": "protecting-sarah",
   "metadata": {},
   "outputs": [
    {
     "name": "stderr",
     "output_type": "stream",
     "text": [
      "<ipython-input-391-0929718a46d1>:3: SettingWithCopyWarning: \n",
      "A value is trying to be set on a copy of a slice from a DataFrame.\n",
      "Try using .loc[row_indexer,col_indexer] = value instead\n",
      "\n",
      "See the caveats in the documentation: https://pandas.pydata.org/pandas-docs/stable/user_guide/indexing.html#returning-a-view-versus-a-copy\n",
      "  df2['text_length']=df2.description.apply(len)\n"
     ]
    },
    {
     "data": {
      "text/plain": [
       "Text(0.5, 0, 'Text Length')"
      ]
     },
     "execution_count": 391,
     "metadata": {},
     "output_type": "execute_result"
    },
    {
     "data": {
      "image/png": "[encoded data removed]",
      "text/plain": [
       "<Figure size 864x576 with 1 Axes>"
      ]
     },
     "metadata": {
      "needs_background": "light"
     },
     "output_type": "display_data"
    }
   ],
   "source": [
    " #Show the length describtion in real and fake jobs\n",
    "df2=train_data.dropna()\n",
    "df2['text_length']=df2.description.apply(len)\n",
    "plt.figure(figsize=(12, 8))\n",
    "\n",
    "df2[df2.fraudulent==0].text_length.plot(bins=35, kind='hist', color='gold', label='Real Post', alpha=0.6)\n",
    "df2[df2.fraudulent==1].text_length.plot(kind='hist', color='purple', label='Fraudulent Post', alpha=0.6)\n",
    "\n",
    "plt.legend()\n",
    "plt.xlabel(\"Text Length\")"
   ]
  },
  {
   "cell_type": "markdown",
   "id": "spectacular-wallace",
   "metadata": {},
   "source": [
    "# Data Preprocess"
   ]
  },
  {
   "cell_type": "code",
   "execution_count": 397,
   "id": "voluntary-sight",
   "metadata": {},
   "outputs": [],
   "source": [
    "#Drop Nan Values\n",
    "df=df.dropna()"
   ]
  },
  {
   "cell_type": "code",
   "execution_count": 398,
   "id": "expired-overhead",
   "metadata": {},
   "outputs": [
    {
     "data": {
      "text/plain": [
       "(8383, 7)"
      ]
     },
     "execution_count": 398,
     "metadata": {},
     "output_type": "execute_result"
    }
   ],
   "source": [
    "df.shape"
   ]
  },
  {
   "cell_type": "code",
   "execution_count": 91,
   "id": "seasonal-elite",
   "metadata": {},
   "outputs": [],
   "source": [
    "## X is the feature of training data\n",
    "X=df.drop('fraudulent',axis=1)"
   ]
  },
  {
   "cell_type": "code",
   "execution_count": 399,
   "id": "tender-probability",
   "metadata": {},
   "outputs": [],
   "source": [
    "## y is the label of data\n",
    "y=df['fraudulent']"
   ]
  },
  {
   "cell_type": "code",
   "execution_count": 400,
   "id": "hydraulic-mitchell",
   "metadata": {},
   "outputs": [
    {
     "data": {
      "text/plain": [
       "0    8173\n",
       "1     210\n",
       "Name: fraudulent, dtype: int64"
      ]
     },
     "execution_count": 400,
     "metadata": {},
     "output_type": "execute_result"
    }
   ],
   "source": [
    "y.value_counts()"
   ]
  },
  {
   "cell_type": "code",
   "execution_count": 401,
   "id": "dedicated-transaction",
   "metadata": {},
   "outputs": [],
   "source": [
    "voc_size=5000"
   ]
  },
  {
   "cell_type": "code",
   "execution_count": 429,
   "id": "potential-chase",
   "metadata": {},
   "outputs": [],
   "source": [
    "text = X.copy()"
   ]
  },
  {
   "cell_type": "code",
   "execution_count": 431,
   "id": "ready-hazard",
   "metadata": {},
   "outputs": [
    {
     "data": {
      "text/html": [
       "<div>\n",
       "<style scoped>\n",
       "    .dataframe tbody tr th:only-of-type {\n",
       "        vertical-align: middle;\n",
       "    }\n",
       "\n",
       "    .dataframe tbody tr th {\n",
       "        vertical-align: top;\n",
       "    }\n",
       "\n",
       "    .dataframe thead th {\n",
       "        text-align: right;\n",
       "    }\n",
       "</style>\n",
       "<table border=\"1\" class=\"dataframe\">\n",
       "  <thead>\n",
       "    <tr style=\"text-align: right;\">\n",
       "      <th></th>\n",
       "      <th>title</th>\n",
       "      <th>description</th>\n",
       "      <th>requirements</th>\n",
       "      <th>company_profile</th>\n",
       "      <th>employment_type</th>\n",
       "      <th>required_experience</th>\n",
       "    </tr>\n",
       "  </thead>\n",
       "  <tbody>\n",
       "    <tr>\n",
       "      <th>0</th>\n",
       "      <td>Marketing Intern</td>\n",
       "      <td>Food52, a fast-growing, James Beard Award-winn...</td>\n",
       "      <td>Experience with content management systems a m...</td>\n",
       "      <td>We're Food52, and we've created a groundbreaki...</td>\n",
       "      <td>Other</td>\n",
       "      <td>Internship</td>\n",
       "    </tr>\n",
       "    <tr>\n",
       "      <th>1</th>\n",
       "      <td>Customer Service - Cloud Video Production</td>\n",
       "      <td>Organised - Focused - Vibrant - Awesome!Do you...</td>\n",
       "      <td>What we expect from you:Your key responsibilit...</td>\n",
       "      <td>90 Seconds, the worlds Cloud Video Production ...</td>\n",
       "      <td>Full-time</td>\n",
       "      <td>Not Applicable</td>\n",
       "    </tr>\n",
       "    <tr>\n",
       "      <th>3</th>\n",
       "      <td>Account Executive - Washington DC</td>\n",
       "      <td>THE COMPANY: ESRI – Environmental Systems Rese...</td>\n",
       "      <td>EDUCATION: Bachelor’s or Master’s in GIS, busi...</td>\n",
       "      <td>Our passion for improving quality of life thro...</td>\n",
       "      <td>Full-time</td>\n",
       "      <td>Mid-Senior level</td>\n",
       "    </tr>\n",
       "    <tr>\n",
       "      <th>4</th>\n",
       "      <td>Bill Review Manager</td>\n",
       "      <td>JOB TITLE: Itemization Review ManagerLOCATION:...</td>\n",
       "      <td>QUALIFICATIONS:RN license in the State of Texa...</td>\n",
       "      <td>SpotSource Solutions LLC is a Global Human Cap...</td>\n",
       "      <td>Full-time</td>\n",
       "      <td>Mid-Senior level</td>\n",
       "    </tr>\n",
       "    <tr>\n",
       "      <th>6</th>\n",
       "      <td>Head of Content (m/f)</td>\n",
       "      <td>Your Responsibilities: Manage the English-spea...</td>\n",
       "      <td>Your Know-How:                                ...</td>\n",
       "      <td>Founded in 2009, the Fonpit AG rose with its i...</td>\n",
       "      <td>Full-time</td>\n",
       "      <td>Mid-Senior level</td>\n",
       "    </tr>\n",
       "    <tr>\n",
       "      <th>...</th>\n",
       "      <td>...</td>\n",
       "      <td>...</td>\n",
       "      <td>...</td>\n",
       "      <td>...</td>\n",
       "      <td>...</td>\n",
       "      <td>...</td>\n",
       "    </tr>\n",
       "    <tr>\n",
       "      <th>17866</th>\n",
       "      <td>Post Production Editor</td>\n",
       "      <td>Key Duties:• Rough cut shows on Adobe Premier ...</td>\n",
       "      <td>Additional Duties:• Ingest, log and label foot...</td>\n",
       "      <td>Stories by RELFrom 5,000 feet, we look like a ...</td>\n",
       "      <td>Full-time</td>\n",
       "      <td>Mid-Senior level</td>\n",
       "    </tr>\n",
       "    <tr>\n",
       "      <th>17870</th>\n",
       "      <td>Senior Financial Analyst (Retail)</td>\n",
       "      <td>We are activity searching for a Senior Financi...</td>\n",
       "      <td>Must have a minimum of 3 + years in Financial ...</td>\n",
       "      <td>PROSULTING IS PEOPLE The ProSulting difference...</td>\n",
       "      <td>Full-time</td>\n",
       "      <td>Mid-Senior level</td>\n",
       "    </tr>\n",
       "    <tr>\n",
       "      <th>17875</th>\n",
       "      <td>Account Director - Distribution</td>\n",
       "      <td>Just in case this is the first time you’ve vis...</td>\n",
       "      <td>To ace this role you:Will eat comprehensive St...</td>\n",
       "      <td>Vend is looking for some awesome new talent to...</td>\n",
       "      <td>Full-time</td>\n",
       "      <td>Mid-Senior level</td>\n",
       "    </tr>\n",
       "    <tr>\n",
       "      <th>17876</th>\n",
       "      <td>Payroll Accountant</td>\n",
       "      <td>The Payroll Accountant will focus primarily on...</td>\n",
       "      <td>- B.A. or B.S. in Accounting- Desire to have f...</td>\n",
       "      <td>WebLinc is the e-commerce platform and service...</td>\n",
       "      <td>Full-time</td>\n",
       "      <td>Mid-Senior level</td>\n",
       "    </tr>\n",
       "    <tr>\n",
       "      <th>17879</th>\n",
       "      <td>Web Application Developers</td>\n",
       "      <td>Who are we?Vend is an award winning web based ...</td>\n",
       "      <td>We want to hear from you if:You have an in-dep...</td>\n",
       "      <td>Vend is looking for some awesome new talent to...</td>\n",
       "      <td>Full-time</td>\n",
       "      <td>Mid-Senior level</td>\n",
       "    </tr>\n",
       "  </tbody>\n",
       "</table>\n",
       "<p>8383 rows × 6 columns</p>\n",
       "</div>"
      ],
      "text/plain": [
       "                                           title  \\\n",
       "0                               Marketing Intern   \n",
       "1      Customer Service - Cloud Video Production   \n",
       "3              Account Executive - Washington DC   \n",
       "4                            Bill Review Manager   \n",
       "6                          Head of Content (m/f)   \n",
       "...                                          ...   \n",
       "17866                     Post Production Editor   \n",
       "17870         Senior Financial Analyst (Retail)    \n",
       "17875           Account Director - Distribution    \n",
       "17876                         Payroll Accountant   \n",
       "17879                 Web Application Developers   \n",
       "\n",
       "                                             description  \\\n",
       "0      Food52, a fast-growing, James Beard Award-winn...   \n",
       "1      Organised - Focused - Vibrant - Awesome!Do you...   \n",
       "3      THE COMPANY: ESRI – Environmental Systems Rese...   \n",
       "4      JOB TITLE: Itemization Review ManagerLOCATION:...   \n",
       "6      Your Responsibilities: Manage the English-spea...   \n",
       "...                                                  ...   \n",
       "17866  Key Duties:• Rough cut shows on Adobe Premier ...   \n",
       "17870  We are activity searching for a Senior Financi...   \n",
       "17875  Just in case this is the first time you’ve vis...   \n",
       "17876  The Payroll Accountant will focus primarily on...   \n",
       "17879  Who are we?Vend is an award winning web based ...   \n",
       "\n",
       "                                            requirements  \\\n",
       "0      Experience with content management systems a m...   \n",
       "1      What we expect from you:Your key responsibilit...   \n",
       "3      EDUCATION: Bachelor’s or Master’s in GIS, busi...   \n",
       "4      QUALIFICATIONS:RN license in the State of Texa...   \n",
       "6      Your Know-How:                                ...   \n",
       "...                                                  ...   \n",
       "17866  Additional Duties:• Ingest, log and label foot...   \n",
       "17870  Must have a minimum of 3 + years in Financial ...   \n",
       "17875  To ace this role you:Will eat comprehensive St...   \n",
       "17876  - B.A. or B.S. in Accounting- Desire to have f...   \n",
       "17879  We want to hear from you if:You have an in-dep...   \n",
       "\n",
       "                                         company_profile employment_type  \\\n",
       "0      We're Food52, and we've created a groundbreaki...           Other   \n",
       "1      90 Seconds, the worlds Cloud Video Production ...       Full-time   \n",
       "3      Our passion for improving quality of life thro...       Full-time   \n",
       "4      SpotSource Solutions LLC is a Global Human Cap...       Full-time   \n",
       "6      Founded in 2009, the Fonpit AG rose with its i...       Full-time   \n",
       "...                                                  ...             ...   \n",
       "17866  Stories by RELFrom 5,000 feet, we look like a ...       Full-time   \n",
       "17870  PROSULTING IS PEOPLE The ProSulting difference...       Full-time   \n",
       "17875  Vend is looking for some awesome new talent to...       Full-time   \n",
       "17876  WebLinc is the e-commerce platform and service...       Full-time   \n",
       "17879  Vend is looking for some awesome new talent to...       Full-time   \n",
       "\n",
       "      required_experience  \n",
       "0              Internship  \n",
       "1          Not Applicable  \n",
       "3        Mid-Senior level  \n",
       "4        Mid-Senior level  \n",
       "6        Mid-Senior level  \n",
       "...                   ...  \n",
       "17866    Mid-Senior level  \n",
       "17870    Mid-Senior level  \n",
       "17875    Mid-Senior level  \n",
       "17876    Mid-Senior level  \n",
       "17879    Mid-Senior level  \n",
       "\n",
       "[8383 rows x 6 columns]"
      ]
     },
     "execution_count": 431,
     "metadata": {},
     "output_type": "execute_result"
    }
   ],
   "source": [
    "text"
   ]
  },
  {
   "cell_type": "code",
   "execution_count": 3,
   "id": "intensive-wrist",
   "metadata": {},
   "outputs": [],
   "source": [
    "import nltk\n",
    "import re\n",
    "from nltk.corpus import stopwords"
   ]
  },
  {
   "cell_type": "code",
   "execution_count": 433,
   "id": "manual-anniversary",
   "metadata": {},
   "outputs": [
    {
     "data": {
      "text/plain": [
       "'Food52, a fast-growing, James Beard Award-winning online food community and crowd-sourced and curated recipe hub, is currently interviewing full- and part-time unpaid interns to work in a small team of editors, executives, and developers in its New York City headquarters.Reproducing and/or repackaging existing Food52 content for a number of partner sites, such as Huffington Post, Yahoo, Buzzfeed, and more in their various content management systemsResearching blogs and websites for the Provisions by Food52 Affiliate ProgramAssisting in day-to-day affiliate program support, such as screening affiliates and assisting in any affiliate inquiriesSupporting with PR &amp; Events when neededHelping with office administrative work, such as filing, mailing, and preparing for meetingsWorking with developers to document bugs and suggest improvements to the siteSupporting the marketing and executive staff'"
      ]
     },
     "execution_count": 433,
     "metadata": {},
     "output_type": "execute_result"
    }
   ],
   "source": [
    "text['description'][0]"
   ]
  },
  {
   "cell_type": "code",
   "execution_count": 434,
   "id": "broken-jefferson",
   "metadata": {},
   "outputs": [],
   "source": [
    "text.reset_index(inplace=True)"
   ]
  },
  {
   "cell_type": "code",
   "execution_count": 4,
   "id": "clinical-farmer",
   "metadata": {},
   "outputs": [
    {
     "data": {
      "text/plain": [
       "['i',\n",
       " 'me',\n",
       " 'my',\n",
       " 'myself',\n",
       " 'we',\n",
       " 'our',\n",
       " 'ours',\n",
       " 'ourselves',\n",
       " 'you',\n",
       " \"you're\",\n",
       " \"you've\",\n",
       " \"you'll\",\n",
       " \"you'd\",\n",
       " 'your',\n",
       " 'yours',\n",
       " 'yourself',\n",
       " 'yourselves',\n",
       " 'he',\n",
       " 'him',\n",
       " 'his',\n",
       " 'himself',\n",
       " 'she',\n",
       " \"she's\",\n",
       " 'her',\n",
       " 'hers',\n",
       " 'herself',\n",
       " 'it',\n",
       " \"it's\",\n",
       " 'its',\n",
       " 'itself',\n",
       " 'they',\n",
       " 'them',\n",
       " 'their',\n",
       " 'theirs',\n",
       " 'themselves',\n",
       " 'what',\n",
       " 'which',\n",
       " 'who',\n",
       " 'whom',\n",
       " 'this',\n",
       " 'that',\n",
       " \"that'll\",\n",
       " 'these',\n",
       " 'those',\n",
       " 'am',\n",
       " 'is',\n",
       " 'are',\n",
       " 'was',\n",
       " 'were',\n",
       " 'be',\n",
       " 'been',\n",
       " 'being',\n",
       " 'have',\n",
       " 'has',\n",
       " 'had',\n",
       " 'having',\n",
       " 'do',\n",
       " 'does',\n",
       " 'did',\n",
       " 'doing',\n",
       " 'a',\n",
       " 'an',\n",
       " 'the',\n",
       " 'and',\n",
       " 'but',\n",
       " 'if',\n",
       " 'or',\n",
       " 'because',\n",
       " 'as',\n",
       " 'until',\n",
       " 'while',\n",
       " 'of',\n",
       " 'at',\n",
       " 'by',\n",
       " 'for',\n",
       " 'with',\n",
       " 'about',\n",
       " 'against',\n",
       " 'between',\n",
       " 'into',\n",
       " 'through',\n",
       " 'during',\n",
       " 'before',\n",
       " 'after',\n",
       " 'above',\n",
       " 'below',\n",
       " 'to',\n",
       " 'from',\n",
       " 'up',\n",
       " 'down',\n",
       " 'in',\n",
       " 'out',\n",
       " 'on',\n",
       " 'off',\n",
       " 'over',\n",
       " 'under',\n",
       " 'again',\n",
       " 'further',\n",
       " 'then',\n",
       " 'once',\n",
       " 'here',\n",
       " 'there',\n",
       " 'when',\n",
       " 'where',\n",
       " 'why',\n",
       " 'how',\n",
       " 'all',\n",
       " 'any',\n",
       " 'both',\n",
       " 'each',\n",
       " 'few',\n",
       " 'more',\n",
       " 'most',\n",
       " 'other',\n",
       " 'some',\n",
       " 'such',\n",
       " 'no',\n",
       " 'nor',\n",
       " 'not',\n",
       " 'only',\n",
       " 'own',\n",
       " 'same',\n",
       " 'so',\n",
       " 'than',\n",
       " 'too',\n",
       " 'very',\n",
       " 's',\n",
       " 't',\n",
       " 'can',\n",
       " 'will',\n",
       " 'just',\n",
       " 'don',\n",
       " \"don't\",\n",
       " 'should',\n",
       " \"should've\",\n",
       " 'now',\n",
       " 'd',\n",
       " 'll',\n",
       " 'm',\n",
       " 'o',\n",
       " 're',\n",
       " 've',\n",
       " 'y',\n",
       " 'ain',\n",
       " 'aren',\n",
       " \"aren't\",\n",
       " 'couldn',\n",
       " \"couldn't\",\n",
       " 'didn',\n",
       " \"didn't\",\n",
       " 'doesn',\n",
       " \"doesn't\",\n",
       " 'hadn',\n",
       " \"hadn't\",\n",
       " 'hasn',\n",
       " \"hasn't\",\n",
       " 'haven',\n",
       " \"haven't\",\n",
       " 'isn',\n",
       " \"isn't\",\n",
       " 'ma',\n",
       " 'mightn',\n",
       " \"mightn't\",\n",
       " 'mustn',\n",
       " \"mustn't\",\n",
       " 'needn',\n",
       " \"needn't\",\n",
       " 'shan',\n",
       " \"shan't\",\n",
       " 'shouldn',\n",
       " \"shouldn't\",\n",
       " 'wasn',\n",
       " \"wasn't\",\n",
       " 'weren',\n",
       " \"weren't\",\n",
       " 'won',\n",
       " \"won't\",\n",
       " 'wouldn',\n",
       " \"wouldn't\"]"
      ]
     },
     "execution_count": 4,
     "metadata": {},
     "output_type": "execute_result"
    }
   ],
   "source": [
    "stopwords.words('english')"
   ]
  },
  {
   "cell_type": "code",
   "execution_count": 435,
   "id": "relative-korea",
   "metadata": {},
   "outputs": [],
   "source": [
    "ps = PorterStemmer()\n",
    "corpus = []\n",
    "for i in range(0, len(text)):\n",
    "    results = re.compile(r'[http|https]*://[a-zA-Z0-9.?/&=:]*', re.S)\n",
    "    results_ = re.compile(r'[#URL]*_[a-zA-Z0-9.?/&=:]*', re.S)\n",
    "    review = re.sub(results, '', text['description'][i])\n",
    "    review = re.sub(results_, '', review)\n",
    "    review = re.sub('[^a-zA-Z]', ' ', review)\n",
    "    review = review.lower()\n",
    "    review = review.split()\n",
    "    review = [ps.stem(word) for word in review if not word in stopwords.words('english')]\n",
    "    review = ' '.join(review)\n",
    "    corpus.append(review)"
   ]
  },
  {
   "cell_type": "markdown",
   "id": "pretty-linux",
   "metadata": {},
   "source": [
    "# Comparing Cleaned Data with Uncleaned Data"
   ]
  },
  {
   "cell_type": "code",
   "execution_count": 445,
   "id": "blessed-timer",
   "metadata": {},
   "outputs": [
    {
     "data": {
      "text/plain": [
       "\"As a\\xa0full stack Scala developer\\xa0at BizReach you will join an engineering-led division and the award-winning leader in recruiting service industry.\\xa0We're looking for a results-driven Scala, or Java\\xa0developer to help the new service develoepment.\\xa0You will be working in a fast-paced environment on a service-based application. You will be responsible for implementing, monitoring, and optimizing the code that powers BizReach's data model, analytics, service APIs, and reducing technical debt along with improvements in the SDLC. As a developer in one of the fastest-growing businesses at BizReach our products are scaling rapidly and this is the team with the most to gain.#URL_ab2dc61618fbfab25be1758a9f0885fb6b2fc3d7e1d1b1fe2b6d4c809a4b8e5b##URL_60b218da63f65f8542ded47d51b5760e79031212de259e4dd559d49abb84aa28#\""
      ]
     },
     "execution_count": 445,
     "metadata": {},
     "output_type": "execute_result"
    }
   ],
   "source": [
    "text['description'][200]"
   ]
  },
  {
   "cell_type": "code",
   "execution_count": 447,
   "id": "initial-encounter",
   "metadata": {},
   "outputs": [
    {
     "data": {
      "text/plain": [
       "'full stack scala develop bizreach join engin led divis award win leader recruit servic industri look result driven scala java develop help new servic develoep work fast pace environ servic base applic respons implement monitor optim code power bizreach data model analyt servic api reduc technic debt along improv sdlc develop one fastest grow busi bizreach product scale rapidli team gain'"
      ]
     },
     "execution_count": 447,
     "metadata": {},
     "output_type": "execute_result"
    }
   ],
   "source": [
    "corpus[200]"
   ]
  },
  {
   "cell_type": "markdown",
   "id": "trying-particular",
   "metadata": {},
   "source": [
    "# One-Hot Embedding"
   ]
  },
  {
   "cell_type": "markdown",
   "id": "otherwise-investor",
   "metadata": {},
   "source": [
    "(one_hot)This function receives as input a string of text and returns a list of encoded integers each corresponding to a word (or token) in the given input string."
   ]
  },
  {
   "cell_type": "code",
   "execution_count": 459,
   "id": "buried-static",
   "metadata": {},
   "outputs": [
    {
     "data": {
      "text/plain": [
       "[3013,\n",
       " 43,\n",
       " 4844,\n",
       " 4045,\n",
       " 3845,\n",
       " 3429,\n",
       " 2716,\n",
       " 3386,\n",
       " 663,\n",
       " 3691,\n",
       " 410,\n",
       " 3549,\n",
       " 4185,\n",
       " 4244,\n",
       " 2903,\n",
       " 735,\n",
       " 1143,\n",
       " 3155,\n",
       " 239,\n",
       " 4782,\n",
       " 3499,\n",
       " 1174,\n",
       " 3616,\n",
       " 3545,\n",
       " 2716,\n",
       " 4583,\n",
       " 2445,\n",
       " 2155,\n",
       " 2371,\n",
       " 3551,\n",
       " 4167,\n",
       " 3917,\n",
       " 1829,\n",
       " 3957,\n",
       " 4240,\n",
       " 3545,\n",
       " 3529,\n",
       " 3429,\n",
       " 2716,\n",
       " 434,\n",
       " 2856,\n",
       " 3327,\n",
       " 240,\n",
       " 1133,\n",
       " 3040,\n",
       " 4185,\n",
       " 4185,\n",
       " 4789,\n",
       " 4378,\n",
       " 3616,\n",
       " 3040,\n",
       " 4185,\n",
       " 548,\n",
       " 1399,\n",
       " 4844,\n",
       " 3545,\n",
       " 4701,\n",
       " 2555,\n",
       " 3791,\n",
       " 298,\n",
       " 3658,\n",
       " 2761,\n",
       " 1429,\n",
       " 1441,\n",
       " 1542,\n",
       " 2637,\n",
       " 2516,\n",
       " 4021,\n",
       " 2834,\n",
       " 4998,\n",
       " 4575,\n",
       " 4264,\n",
       " 3327,\n",
       " 1841,\n",
       " 916,\n",
       " 3341,\n",
       " 4853,\n",
       " 1858,\n",
       " 2463,\n",
       " 2076,\n",
       " 2681,\n",
       " 1652,\n",
       " 2834,\n",
       " 3327,\n",
       " 2681,\n",
       " 2064,\n",
       " 2796,\n",
       " 3957,\n",
       " 1174,\n",
       " 3616,\n",
       " 3545,\n",
       " 2716,\n",
       " 2796,\n",
       " 3957,\n",
       " 1174,\n",
       " 3616,\n",
       " 3545,\n",
       " 2716,\n",
       " 1214,\n",
       " 298,\n",
       " 692,\n",
       " 385,\n",
       " 177,\n",
       " 1703,\n",
       " 245,\n",
       " 3616,\n",
       " 39,\n",
       " 4291,\n",
       " 310,\n",
       " 634,\n",
       " 3957,\n",
       " 1380,\n",
       " 1050,\n",
       " 4185,\n",
       " 150,\n",
       " 1174,\n",
       " 691,\n",
       " 3860,\n",
       " 2796,\n",
       " 1458,\n",
       " 2118,\n",
       " 690,\n",
       " 1934,\n",
       " 1560,\n",
       " 4805,\n",
       " 2555,\n",
       " 131,\n",
       " 3616,\n",
       " 3545,\n",
       " 1397,\n",
       " 4185,\n",
       " 4372,\n",
       " 4645,\n",
       " 3616,\n",
       " 3040,\n",
       " 1037,\n",
       " 245,\n",
       " 578,\n",
       " 1841,\n",
       " 2375,\n",
       " 470,\n",
       " 3616,\n",
       " 1205,\n",
       " 3799,\n",
       " 3693,\n",
       " 3545,\n",
       " 4789,\n",
       " 1441,\n",
       " 3799,\n",
       " 1207,\n",
       " 3616,\n",
       " 3040,\n",
       " 4789,\n",
       " 3318,\n",
       " 1623,\n",
       " 2180,\n",
       " 651,\n",
       " 4901,\n",
       " 2044,\n",
       " 2796,\n",
       " 310,\n",
       " 3944,\n",
       " 3616,\n",
       " 3799,\n",
       " 1429,\n",
       " 298,\n",
       " 1851,\n",
       " 3957,\n",
       " 2181,\n",
       " 1851,\n",
       " 1555,\n",
       " 4221,\n",
       " 4830,\n",
       " 752,\n",
       " 1538,\n",
       " 498,\n",
       " 2356,\n",
       " 826,\n",
       " 2380,\n",
       " 433,\n",
       " 2317,\n",
       " 2088,\n",
       " 2356,\n",
       " 498,\n",
       " 1329,\n",
       " 2681,\n",
       " 3026,\n",
       " 605,\n",
       " 2707,\n",
       " 4126,\n",
       " 553,\n",
       " 2344]"
      ]
     },
     "execution_count": 459,
     "metadata": {},
     "output_type": "execute_result"
    }
   ],
   "source": [
    "onehot_code=[one_hot(words,voc_size)for words in corpus] \n",
    "onehot_code[1]"
   ]
  },
  {
   "cell_type": "markdown",
   "id": "incorrect-purpose",
   "metadata": {},
   "source": [
    "Each number in the vector represents the corresponding word after one_hot encoding"
   ]
  },
  {
   "cell_type": "markdown",
   "id": "alternate-brooklyn",
   "metadata": {},
   "source": [
    "Cut each sample length to ensure equal lengths"
   ]
  },
  {
   "cell_type": "code",
   "execution_count": 460,
   "id": "democratic-family",
   "metadata": {},
   "outputs": [
    {
     "name": "stdout",
     "output_type": "stream",
     "text": [
      "[[   0    0    0 ... 2968 1308 2810]\n",
      " [2796 3957 1174 ... 4126  553 2344]\n",
      " [2827 1275  945 ... 3303  293 4805]\n",
      " ...\n",
      " [2472 2993 4518 ... 3197 3429 3957]\n",
      " [1841 4747 1099 ... 1441 3549 3925]\n",
      " [4157 3415 2615 ... 2560 1123 4225]]\n"
     ]
    }
   ],
   "source": [
    "sent_length=100\n",
    "one_hot_embedded_docs=pad_sequences(onehot_code,padding='pre',maxlen=sent_length)\n",
    "print(one_hot_embedded_docs)"
   ]
  },
  {
   "cell_type": "code",
   "execution_count": 461,
   "id": "accredited-repeat",
   "metadata": {},
   "outputs": [
    {
     "data": {
      "text/plain": [
       "100"
      ]
     },
     "execution_count": 461,
     "metadata": {},
     "output_type": "execute_result"
    }
   ],
   "source": [
    "len(one_hot_embedded_docs[3])"
   ]
  },
  {
   "cell_type": "code",
   "execution_count": 462,
   "id": "oriented-bernard",
   "metadata": {},
   "outputs": [
    {
     "data": {
      "text/plain": [
       "8383"
      ]
     },
     "execution_count": 462,
     "metadata": {},
     "output_type": "execute_result"
    }
   ],
   "source": [
    "len(one_hot_embedded_docs)"
   ]
  },
  {
   "cell_type": "markdown",
   "id": "behavioral-thickness",
   "metadata": {},
   "source": [
    "# Build and Train the LSTM Model"
   ]
  },
  {
   "cell_type": "code",
   "execution_count": 335,
   "id": "recorded-principle",
   "metadata": {},
   "outputs": [
    {
     "name": "stdout",
     "output_type": "stream",
     "text": [
      "Model: \"sequential_17\"\n",
      "_________________________________________________________________\n",
      "Layer (type)                 Output Shape              Param #   \n",
      "=================================================================\n",
      "embedding_17 (Embedding)     (None, 100, 400)          2000000   \n",
      "_________________________________________________________________\n",
      "bidirectional_16 (Bidirectio (None, 200)               400800    \n",
      "_________________________________________________________________\n",
      "dropout_16 (Dropout)         (None, 200)               0         \n",
      "_________________________________________________________________\n",
      "dense_16 (Dense)             (None, 1)                 201       \n",
      "=================================================================\n",
      "Total params: 2,401,001\n",
      "Trainable params: 2,401,001\n",
      "Non-trainable params: 0\n",
      "_________________________________________________________________\n",
      "None\n"
     ]
    }
   ],
   "source": [
    "## Building the model\n",
    "embedding_vector_features= 400\n",
    "model=Sequential()\n",
    "model.add(Embedding(voc_size,embedding_vector_features,input_length=sent_length))\n",
    "model.add(Bidirectional(LSTM(100))) ##Just add bidirectional!!, except it would just behave as normal LSTM Model\n",
    "model.add(Dropout(0.3))\n",
    "model.add(Dense(1,activation='sigmoid'))\n",
    "model.compile(loss='binary_crossentropy',optimizer='adam',metrics=['accuracy'])\n",
    "print(model.summary())"
   ]
  },
  {
   "cell_type": "code",
   "execution_count": 336,
   "id": "emotional-intelligence",
   "metadata": {},
   "outputs": [
    {
     "data": {
      "text/plain": [
       "(8383, (8383,))"
      ]
     },
     "execution_count": 336,
     "metadata": {},
     "output_type": "execute_result"
    }
   ],
   "source": [
    "len(embedded_docs),y.shape"
   ]
  },
  {
   "cell_type": "code",
   "execution_count": 337,
   "id": "vocational-spain",
   "metadata": {},
   "outputs": [],
   "source": [
    "import numpy as np\n",
    "X_final=np.array(one_hot_embedded_docs)\n",
    "y_final=np.array(y)"
   ]
  },
  {
   "cell_type": "code",
   "execution_count": 338,
   "id": "demanding-republican",
   "metadata": {},
   "outputs": [],
   "source": [
    "class_weight = { 0:1,\n",
    "                 1:5\n",
    "}"
   ]
  },
  {
   "cell_type": "code",
   "execution_count": 339,
   "id": "surface-status",
   "metadata": {},
   "outputs": [],
   "source": [
    "X_train, X_test, y_train, y_test = train_test_split(X_final, y_final, test_size=0.25, random_state=32)"
   ]
  },
  {
   "cell_type": "code",
   "execution_count": 340,
   "id": "equipped-variety",
   "metadata": {},
   "outputs": [],
   "source": [
    "Ir_reduce=keras.callbacks.ReduceLROnPlateau('loss',patience=3,factor=0.5,min_lr=0.00000000001)"
   ]
  },
  {
   "cell_type": "code",
   "execution_count": 341,
   "id": "shaped-measure",
   "metadata": {},
   "outputs": [
    {
     "name": "stdout",
     "output_type": "stream",
     "text": [
      "Epoch 1/10\n",
      "99/99 [==============================] - 32s 300ms/step - loss: 0.2607 - accuracy: 0.9434 - val_loss: 0.0891 - val_accuracy: 0.9781\n",
      "Epoch 2/10\n",
      "99/99 [==============================] - 27s 276ms/step - loss: 0.0752 - accuracy: 0.9783 - val_loss: 0.0572 - val_accuracy: 0.9890\n",
      "Epoch 3/10\n",
      "99/99 [==============================] - 28s 278ms/step - loss: 0.0215 - accuracy: 0.9946 - val_loss: 0.0557 - val_accuracy: 0.9909\n",
      "Epoch 4/10\n",
      "99/99 [==============================] - 29s 297ms/step - loss: 0.0085 - accuracy: 0.9980 - val_loss: 0.0595 - val_accuracy: 0.9900\n",
      "Epoch 5/10\n",
      "99/99 [==============================] - 32s 320ms/step - loss: 0.0059 - accuracy: 0.9981 - val_loss: 0.0647 - val_accuracy: 0.9895\n",
      "Epoch 6/10\n",
      "99/99 [==============================] - 29s 294ms/step - loss: 0.0020 - accuracy: 0.9997 - val_loss: 0.0688 - val_accuracy: 0.9890\n",
      "Epoch 7/10\n",
      "99/99 [==============================] - 28s 280ms/step - loss: 7.6287e-04 - accuracy: 1.0000 - val_loss: 0.0771 - val_accuracy: 0.9881\n",
      "Epoch 8/10\n",
      "99/99 [==============================] - 31s 314ms/step - loss: 3.5036e-04 - accuracy: 1.0000 - val_loss: 0.0816 - val_accuracy: 0.9881\n",
      "Epoch 9/10\n",
      "99/99 [==============================] - 30s 303ms/step - loss: 2.0198e-04 - accuracy: 1.0000 - val_loss: 0.0837 - val_accuracy: 0.9881\n",
      "Epoch 10/10\n",
      "99/99 [==============================] - 32s 327ms/step - loss: 1.3381e-04 - accuracy: 1.0000 - val_loss: 0.0871 - val_accuracy: 0.9876\n"
     ]
    }
   ],
   "source": [
    "histroy = model.fit(X_train,y_train,validation_data=(X_test,y_test),epochs=10,batch_size=64,callbacks=[Ir_reduce])"
   ]
  },
  {
   "cell_type": "code",
   "execution_count": 357,
   "id": "incorporated-elizabeth",
   "metadata": {},
   "outputs": [
    {
     "name": "stderr",
     "output_type": "stream",
     "text": [
      "/Library/Frameworks/Python.framework/Versions/3.8/lib/python3.8/site-packages/tensorflow/python/keras/engine/sequential.py:450: UserWarning: `model.predict_classes()` is deprecated and will be removed after 2021-01-01. Please use instead:* `np.argmax(model.predict(x), axis=-1)`,   if your model does multi-class classification   (e.g. if it uses a `softmax` last-layer activation).* `(model.predict(x) > 0.5).astype(\"int32\")`,   if your model does binary classification   (e.g. if it uses a `sigmoid` last-layer activation).\n",
      "  warnings.warn('`model.predict_classes()` is deprecated and '\n"
     ]
    }
   ],
   "source": [
    "y_pred=model.predict_classes(X_test)\n",
    "from sklearn.metrics import confusion_matrix\n",
    "cm = confusion_matrix(y_test,y_pred)\n",
    "labels = [\"Real Job\", \"Fake Job\"]"
   ]
  },
  {
   "cell_type": "code",
   "execution_count": 358,
   "id": "active-lighting",
   "metadata": {},
   "outputs": [
    {
     "data": {
      "image/png": "[encoded data removed]",
      "text/plain": [
       "<Figure size 432x288 with 2 Axes>"
      ]
     },
     "metadata": {
      "needs_background": "light"
     },
     "output_type": "display_data"
    }
   ],
   "source": [
    "disp = ConfusionMatrixDisplay(confusion_matrix=cm, display_labels=labels)\n",
    "disp.plot(cmap=plt.cm.Blues)\n",
    "plt.show()"
   ]
  },
  {
   "cell_type": "code",
   "execution_count": 343,
   "id": "desperate-frost",
   "metadata": {},
   "outputs": [
    {
     "name": "stdout",
     "output_type": "stream",
     "text": [
      "dict_keys(['loss', 'accuracy', 'val_loss', 'val_accuracy', 'lr'])\n"
     ]
    },
    {
     "data": {
      "image/png": "[encoded data removed]",
      "text/plain": [
       "<Figure size 432x288 with 1 Axes>"
      ]
     },
     "metadata": {
      "needs_background": "light"
     },
     "output_type": "display_data"
    },
    {
     "data": {
      "image/png": "[encoded data removed]",
      "text/plain": [
       "<Figure size 432x288 with 1 Axes>"
      ]
     },
     "metadata": {
      "needs_background": "light"
     },
     "output_type": "display_data"
    }
   ],
   "source": [
    "print(history.history.keys())\n",
    "# summarize history for accuracy\n",
    "plt.plot(history.history['accuracy'])\n",
    "plt.plot(history.history['val_accuracy'])\n",
    "plt.title('model accuracy')\n",
    "plt.ylabel('accuracy')\n",
    "plt.xlabel('epoch')\n",
    "plt.legend(['train', 'test'], loc='upper left')\n",
    "plt.show()\n",
    "# summarize history for loss\n",
    "plt.plot(history.history['loss'])\n",
    "plt.plot(history.history['val_loss'])\n",
    "plt.title('model loss')\n",
    "plt.ylabel('loss')\n",
    "plt.xlabel('epoch')\n",
    "plt.legend(['train', 'test'], loc='upper left')\n",
    "plt.show()"
   ]
  },
  {
   "cell_type": "markdown",
   "id": "stainless-valentine",
   "metadata": {},
   "source": [
    "# Grid Search"
   ]
  },
  {
   "cell_type": "markdown",
   "id": "flexible-probe",
   "metadata": {},
   "source": [
    "This part took a long time"
   ]
  },
  {
   "cell_type": "code",
   "execution_count": 318,
   "id": "considered-summit",
   "metadata": {},
   "outputs": [],
   "source": [
    "def create_model(embedding_vector_features, neurons):\n",
    "    # create model\n",
    "    model=Sequential()\n",
    "    model.add(Embedding(5000,embedding_vector_features,input_length=sent_length)) # Embedded Layer\n",
    "    model.add(Bidirectional(LSTM(neurons))) #LSTM Layer\n",
    "    model.add(Dropout(0.3))\n",
    "    model.add(Dense(1,activation='sigmoid'))\n",
    "    model.compile(loss='binary_crossentropy',optimizer='adam',metrics=['accuracy'])\n",
    "    return model"
   ]
  },
  {
   "cell_type": "code",
   "execution_count": 319,
   "id": "uniform-complexity",
   "metadata": {},
   "outputs": [
    {
     "name": "stdout",
     "output_type": "stream",
     "text": [
      "Best: 0.985924 using {'embedding_vector_features': 400, 'neurons': 100}\n",
      "0.985566 (0.004095) with: {'embedding_vector_features': 50, 'neurons': 100}\n",
      "0.984731 (0.003655) with: {'embedding_vector_features': 50, 'neurons': 150}\n",
      "0.984373 (0.002156) with: {'embedding_vector_features': 50, 'neurons': 200}\n",
      "0.984373 (0.002929) with: {'embedding_vector_features': 100, 'neurons': 100}\n",
      "0.985805 (0.003654) with: {'embedding_vector_features': 100, 'neurons': 150}\n",
      "0.985208 (0.003653) with: {'embedding_vector_features': 100, 'neurons': 200}\n",
      "0.984134 (0.003259) with: {'embedding_vector_features': 200, 'neurons': 100}\n",
      "0.984731 (0.003701) with: {'embedding_vector_features': 200, 'neurons': 150}\n",
      "0.985566 (0.003259) with: {'embedding_vector_features': 200, 'neurons': 200}\n",
      "0.985924 (0.003220) with: {'embedding_vector_features': 400, 'neurons': 100}\n",
      "0.985208 (0.002271) with: {'embedding_vector_features': 400, 'neurons': 150}\n",
      "0.985685 (0.003093) with: {'embedding_vector_features': 400, 'neurons': 200}\n"
     ]
    }
   ],
   "source": [
    "model = KerasClassifier(build_fn=create_model, epochs=10, batch_size=64, verbose=0)\n",
    "# define the grid search parameters\n",
    "all_embedding_vector_features = [50,100,200,400]\n",
    "neurons = [100, 150, 200]\n",
    "param_grid = dict(neurons=neurons,embedding_vector_features = all_embedding_vector_features)\n",
    "grid = GridSearchCV(estimator=model, param_grid=param_grid, n_jobs=-1, cv=3)\n",
    "grid_result = grid.fit(X_final, y_final)\n",
    "# summarize results\n",
    "print(\"Best: %f using %s\" % (grid_result.best_score_, grid_result.best_params_))\n",
    "means = grid_result.cv_results_['mean_test_score']\n",
    "stds = grid_result.cv_results_['std_test_score']\n",
    "params = grid_result.cv_results_['params']\n",
    "for mean, stdev, param in zip(means, stds, params):\n",
    "    print(\"%f (%f) with: %r\" % (mean, stdev, param))\n",
    "    \n"
   ]
  },
  {
   "cell_type": "code",
   "execution_count": null,
   "id": "surprising-turkey",
   "metadata": {},
   "outputs": [],
   "source": []
  }
 ],
 "metadata": {
  "kernelspec": {
   "display_name": "Python 3",
   "language": "python",
   "name": "python3"
  },
  "language_info": {
   "codemirror_mode": {
    "name": "ipython",
    "version": 3
   },
   "file_extension": ".py",
   "mimetype": "text/x-python",
   "name": "python",
   "nbconvert_exporter": "python",
   "pygments_lexer": "ipython3",
   "version": "3.8.7"
  }
 },
 "nbformat": 4,
 "nbformat_minor": 5
}
